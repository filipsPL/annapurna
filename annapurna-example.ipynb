{
 "cells": [
  {
   "cell_type": "markdown",
   "metadata": {},
   "source": [
    "# AnnapuRNA usage examples\n",
    "\n",
    "## Prerequisities\n",
    "\n",
    "See https://github.com/filipsPL/annapurna#installation for installation instructions. To run this notebook, you have to have:\n",
    "- installed annapurna virtual environment in conda\n",
    "- cloned annapurna repository\n",
    "- have a jupyter-notebook with a bash kernel. To install this kernel (only to run this notebook) run:\n",
    "```bash\n",
    "pip install bash_kernel\n",
    "python -m bash_kernel.install\n",
    "```"
   ]
  },
  {
   "cell_type": "code",
   "execution_count": 2,
   "metadata": {},
   "outputs": [
    {
     "name": "stdout",
     "output_type": "stream",
     "text": [
      "(annapurna) (annapurna) "
     ]
    },
    {
     "ename": "",
     "evalue": "1",
     "output_type": "error",
     "traceback": []
    }
   ],
   "source": [
    "# activate the conda encironment\n",
    "conda activate annapurna"
   ]
  },
  {
   "cell_type": "code",
   "execution_count": 3,
   "metadata": {},
   "outputs": [
    {
     "name": "stdout",
     "output_type": "stream",
     "text": [
      "usage: annapurna.py -r RNAFILE -l LIGANDFILE -m\n",
      "                    {DL_basic,DL_modern,kNN_basic,kNN_modern,RF_modern,NB_modern,ALL}\n",
      "                    [--clustering_method {False,SRAP,AD,SRDC}]\n",
      "                    [--cluster_fraction CLUSTERINGFRACTION]\n",
      "                    [--cluster_cutoff CLUSTERINGCUTOFF] [-e ENERGYWEIGHT]\n",
      "                    [-w {False,L-J,linear,1/x,exp,x^2,log}]\n",
      "                    [-d USEDISTANCECUTOFF] [-t {False,PMF}]\n",
      "                    [-o OUTPUTFILENAME] [-p H2OPORT] [-g] [--merge] [-O] [-s]\n",
      "                    [--dont_clean] [--dont_simrnate] [-i] [-V] [-h]\n",
      "\n",
      "AnnapuRNA: Coarese Grained Scoring Function for RNA-Ligand Complexes\n",
      "\n",
      "required arguments:\n",
      "  -r RNAFILE, --rna RNAFILE\n",
      "                        RNA pdb file (full atom)\n",
      "  -l LIGANDFILE, --ligand LIGANDFILE\n",
      "                        ligand file (sdf, mol2, mol, pdb or any other\n",
      "                        understood by OpenBabel)\n",
      "  -m {DL_basic,DL_modern,kNN_basic,kNN_modern,RF_modern,NB_modern,ALL}, --model {DL_basic,DL_modern,kNN_basic,kNN_modern,RF_modern,NB_modern,ALL}\n",
      "                        prediction model to be used; may be used multiple\n",
      "                        times for scoring with different models. Use --info\n",
      "                        for more information on available models. Use ALL to\n",
      "                        use all available models.\n",
      "\n",
      "optional arguments:\n",
      "  --clustering_method {False,SRAP,AD,SRDC}\n",
      "                        Clustering method. SRAP = SimRNA style with Affinity\n",
      "                        Propagation; SRDC = SimRNA style with Distance Cutoff;\n",
      "                        AD = AutoDock style.\n",
      "  --cluster_fraction CLUSTERINGFRACTION\n",
      "                        Docking poses clustering. Select this fraction of top\n",
      "                        scoring poses. 0-1. 0 = do not cluster results\n",
      "  --cluster_cutoff CLUSTERINGCUTOFF\n",
      "                        Docking poses clustering. Use this RMSD cutoff for\n",
      "                        clustering. 0 = do not use the RMSD cutoff\n",
      "  -e ENERGYWEIGHT, --weight_ligand_energy ENERGYWEIGHT\n",
      "                        weight for a ligand's energy term. Default: 0.1. 0\n",
      "                        (zero) = do not use the energy term.\n",
      "  -w {False,L-J,linear,1/x,exp,x^2,log}, --weight_distance {False,L-J,linear,1/x,exp,x^2,log}\n",
      "                        weight probabilities by distance depending function.\n",
      "                        False = don't weight by distance (default)\n",
      "  -d USEDISTANCECUTOFF, --distance_cutoff USEDISTANCECUTOFF\n",
      "                        use distance cutoff. 0-10 Å. Default: 10 Å.\n",
      "  -t {False,PMF}, --transform_proba {False,PMF}\n",
      "                        transform calculated probabilities. Default: false\n",
      "  -o OUTPUTFILENAME, --output OUTPUTFILENAME\n",
      "                        output filename prefix\n",
      "  -p H2OPORT, --port H2OPORT\n",
      "                        port of H2O server\n",
      "  -g, --groupby         in addition, output scores with a single best score\n",
      "                        for each compound.\n",
      "  --merge               merge prediction from multiple models into a single\n",
      "                        file.\n",
      "  -O, --overwrite       overwrite the output file, if exists\n",
      "  -s, --skip_statistics\n",
      "                        skip collecting statistics if the intermediate file\n",
      "                        exists; may be used for applying other available\n",
      "                        models to aleready collected data.\n",
      "  --dont_clean          don't perform structure cleaning.\n",
      "  --dont_simrnate       don't perform coarse graining of the input structure.\n",
      "                        Assumes the RNA is already in SimRNA format.\n",
      "  -i, --info            display information on available models and exit.\n",
      "  -V, --verbose\n",
      "  -h, --help            show this help message and exit.\n",
      "(annapurna) "
     ]
    },
    {
     "ename": "",
     "evalue": "1",
     "output_type": "error",
     "traceback": []
    }
   ],
   "source": [
    "./annapurna.py --help"
   ]
  },
  {
   "cell_type": "code",
   "execution_count": 4,
   "metadata": {},
   "outputs": [
    {
     "name": "stdout",
     "output_type": "stream",
     "text": [
      "(annapurna) "
     ]
    },
    {
     "ename": "",
     "evalue": "1",
     "output_type": "error",
     "traceback": []
    }
   ],
   "source": [
    "mkdir testresults"
   ]
  },
  {
   "cell_type": "code",
   "execution_count": 5,
   "metadata": {},
   "outputs": [
    {
     "name": "stdout",
     "output_type": "stream",
     "text": [
      "(annapurna) (annapurna) [\u001b[1m Info \u001b[0m] Cleaning PDB file ...\n",
      "[\u001b[1m Info \u001b[0m] Converting PDB file to the SimRNA representation ...\n",
      "[\u001b[1m Info \u001b[0m] Checking RNA structure ...\n",
      "[\u001b[92m  OK  \u001b[0m] The structure is OK!\n",
      "[\u001b[1m Info \u001b[0m] Normalizing the ligand file, adding titles ...\n",
      "[\u001b[1m Info \u001b[0m] Calculating ligands energy values ...\n",
      "[\u001b[1m Info \u001b[0m] Trying to convert ligand file to .phar file.\n",
      "+++++++++++++++++++++++++++++++++++++++++++++++++++++++++++++++++++++++++++\n",
      "  Align-it v1.0.3 | May 21 2017 21:15:06\n",
      "\n",
      "  -> GCC:         4.8.5\n",
      "  -> Open Babel:  2.4.1\n",
      "\n",
      "  Copyright 2012 by Silicos-it, a division of Imacosi bvba\n",
      "\n",
      "  Align-it is free software: you can redistribute it and/or modify\n",
      "  it under the terms of the GNU Lesser General Public License as published\n",
      "  by the Free Software Foundation, either version 3 of the License, or\n",
      "  (at your option) any later version.\n",
      "\n",
      "  Align-it is distributed in the hope that it will be useful,\n",
      "  but WITHOUT ANY WARRANTY; without even the implied warranty of\n",
      "  MERCHANTABILITY or FITNESS FOR A PARTICULAR PURPOSE.  See the\n",
      "  GNU Lesser General Public License for more details.\n",
      "\n",
      "  Align-it is linked against OpenBabel version 2.\n",
      "  OpenBabel is free software; you can redistribute it and/or modify\n",
      "  it under the terms of the GNU General Public License as published by\n",
      "  the Free Software Foundation version 2 of the License.\n",
      "+++++++++++++++++++++++++++++++++++++++++++++++++++++++++++++++++++++++++++\n",
      "\n",
      "\n",
      "COMMAND LINE OPTIONS:\n",
      "\n",
      "  -> Reference file:    no\n",
      "  -> Reference type:    unknown\n",
      "  -> Database file:     tests/testFiles/ARG.titles.sdf\n",
      "  -> Database type:     sdf\n",
      "  -> Mol output file:   no\n",
      "  -> Output type:       sdf\n",
      "  -> Pharm output file: tests/testFiles/ARG.titles.phar\n",
      "  -> Scores file:       no\n",
      "  -> Cutoff:            no\n",
      "  -> Best hits:         no\n",
      "  -> Rank by:           0\n",
      "  -> Functional groups: AROM HDON HACC LIPO NEGC POSC \n",
      "  -> Hybrids:           no\n",
      "  -> Epsilon:           0.5\n",
      "  -> Merge pharm:       no\n",
      "  -> Include normals:   yes\n",
      "  -> With exclusion:    no\n",
      "  -> Scores only:       no\n",
      "  -> Quied mode:        no\n",
      "\n",
      "\n",
      "...............\n",
      "Processed 139 molecules in 0.36992 seconds (375.757 molecules per second).\n",
      "[\u001b[1m Info \u001b[0m] Collecting statistics ...\n",
      "[\u001b[1m Info \u001b[0m] Collecting statistics...\n",
      "[1/8] C:C4'-P\t [██████████████████████████████████████████████████████████████████████] 100.0% [\u001b[92m  OK  \u001b[0m] \n",
      "[2/8] C:P-C4'\t [██████████████████████████████████████████████████████████████████████] 100.0% [\u001b[92m  OK  \u001b[0m] \n",
      "[3/8] C:C4'-N1\t [██████████████████████████████████████████████████████████████████████] 100.0% [\u001b[92m  OK  \u001b[0m] \n",
      "[4/8] C:C4'-N9\t [██████████████████████████████████████████████████████████████████████] 100.0% [\u001b[92m  OK  \u001b[0m] \n",
      "[5/8] C:N1-C2\t [██████████████████████████████████████████████████████████████████████] 100.0% [\u001b[92m  OK  \u001b[0m] \n",
      "[6/8] C:N1-C4\t [██████████████████████████████████████████████████████████████████████] 100.0% [\u001b[92m  OK  \u001b[0m] \n",
      "[7/8] C:N9-C2\t [██████████████████████████████████████████████████████████████████████] 100.0% [\u001b[92m  OK  \u001b[0m] \n",
      "[8/8] C:N9-C6\t [██████████████████████████████████████████████████████████████████████] 100.0% [\u001b[92m  OK  \u001b[0m] \n",
      "[\u001b[1m Info \u001b[0m] bzip2 compression of statistics...\n",
      "[\u001b[1m Info \u001b[0m] Maximum resident set size: 92468 kB;\n",
      "[\u001b[1m Info \u001b[0m] Reading statistics file...\n",
      "[\u001b[1m Info \u001b[0m] Maximum resident set size: 109140 kB;\n",
      "[\u001b[1m Info \u001b[0m] Grouping...\n",
      "[\u001b[1m Info \u001b[0m] Maximum resident set size: 109140 kB;\n",
      "[\u001b[1m Info \u001b[0m] Reading Energy data...\n",
      "[\u001b[1m Info \u001b[0m] Scoring with model: *kNN_modern* - good.\n",
      "[\u001b[1m Info \u001b[0m] Setup of the scoring engine...\n",
      "[\u001b[1m Info \u001b[0m] Using scikit engine\n",
      "[\u001b[1m Info \u001b[0m] Calculating scores ...\n",
      "[ 60/60] U_P_POSC\t [██████████████████████████████████████████████████████████████████████] 100.0% [\u001b[92m  OK  \u001b[0m] \n",
      "[\u001b[1m Info \u001b[0m] Total number of models used: 60\n",
      "[\u001b[1m Info \u001b[0m] Missing number of models pairs count: 0  = 0.0 %\n",
      "[\u001b[1m Info \u001b[0m] Grouping results...\n",
      "[\u001b[1m Info \u001b[0m] Saving ...\n",
      "[\u001b[92m  OK  \u001b[0m] Results successfully saved in testresults/output.kNN_modern.csv\n",
      "[\u001b[1m Info \u001b[0m] Grouping by compound's name ...\n",
      "[\u001b[1m Info \u001b[0m] Saving ...\n",
      "[\u001b[92m  OK  \u001b[0m] Results successfully saved in testresults/output.kNN_modern.grouped.csv\n",
      "[\u001b[1m Info \u001b[0m] Maximum resident set size: 129312 kB;\n",
      "(annapurna) "
     ]
    },
    {
     "ename": "",
     "evalue": "1",
     "output_type": "error",
     "traceback": []
    }
   ],
   "source": [
    "# run rescoring of sample files\n",
    "\n",
    "./annapurna.py -r tests/testFiles/1AJU.pdb -l tests/testFiles/ARG.sdf -m kNN_modern -o testresults/output --groupby"
   ]
  },
  {
   "cell_type": "markdown",
   "metadata": {},
   "source": [
    "## Outputs\n",
    "\n",
    "scoring data are located in csv (numerical) and sdf files (structural + numerical)"
   ]
  },
  {
   "cell_type": "code",
   "execution_count": 6,
   "metadata": {},
   "outputs": [
    {
     "name": "stdout",
     "output_type": "stream",
     "text": [
      "(annapurna) razem 2300\n",
      "drwxrwxr-x  2 filips filips    4096 lip 22 15:33 \u001b[0m\u001b[01;34m.\u001b[0m\n",
      "drwxrwxr-x 12 filips filips    4096 lip 22 15:35 \u001b[01;34m..\u001b[0m\n",
      "-rw-rw-r--  1 filips filips 1132358 lip 22 15:33 \u001b[01;31moutput.csv.bz2\u001b[0m\n",
      "-rw-rw-r--  1 filips filips    7829 lip 22 15:33 output.kNN_modern.csv\n",
      "-rw-rw-r--  1 filips filips     216 lip 22 15:33 output.kNN_modern.grouped.csv\n",
      "-rw-rw-r--  1 filips filips  563883 lip 22 15:33 output__kNN_modern+scores.sdf\n",
      "-rw-rw-r--  1 filips filips    1198 lip 22 15:32 \u001b[01;31moutput.ligand_energy.csv.bz2\u001b[0m\n",
      "-rw-rw-r--  1 filips filips  563883 lip 22 15:33 output_output.sdf\n",
      "-rw-rw-r--  1 filips filips   50642 lip 22 15:32 output.RNA.clean.pdb\n",
      "-rw-rw-r--  1 filips filips   12158 lip 22 15:32 output.RNA.clean.simrna.pdb\n",
      "(annapurna) "
     ]
    },
    {
     "ename": "",
     "evalue": "1",
     "output_type": "error",
     "traceback": []
    }
   ],
   "source": [
    "cd testresults\n",
    "ls -la"
   ]
  },
  {
   "cell_type": "code",
   "execution_count": 9,
   "metadata": {},
   "outputs": [
    {
     "name": "stdout",
     "output_type": "stream",
     "text": [
      "(annapurna) (annapurna) compoundId  compound       interactions_missing  interactions_used  score_RNA-Ligand  E_ligand  score_ligand  score\n",
      "72          1AJU_ARG_A_47  0                     290                -153.717          425.378   -4.821        -158.538\n",
      "97          1AKX_ARG_A_47  0                     293                -154.737          426.245   -4.734        -159.471\n",
      "(annapurna) "
     ]
    },
    {
     "ename": "",
     "evalue": "1",
     "output_type": "error",
     "traceback": []
    }
   ],
   "source": [
    "# summary - best pose for each compound; annapurna score is in the last - score - column\n",
    "\n",
    "column -t output.kNN_modern.grouped.csv"
   ]
  },
  {
   "cell_type": "code",
   "execution_count": 10,
   "metadata": {},
   "outputs": [
    {
     "name": "stdout",
     "output_type": "stream",
     "text": [
      "(annapurna) (annapurna) compoundId  compound       interactions_missing  interactions_used  score_RNA-Ligand  E_ligand  score_ligand  score\n",
      "1           1AJU_ARG_A_47  0                     120                -45.988           427.063   -4.652        -50.640\n",
      "2           1AJU_ARG_A_47  0                     272                -130.975          423.278   -5.031        -136.005\n",
      "3           1AJU_ARG_A_47  0                     222                -112.402          419.646   -5.394        -117.796\n",
      "4           1AJU_ARG_A_47  0                     220                -106.499          436.118   -3.747        -110.245\n",
      "5           1AJU_ARG_A_47  0                     180                -83.919           423.178   -5.041        -88.960\n",
      "6           1AJU_ARG_A_47  0                     212                -107.427          427.505   -4.608        -112.035\n",
      "7           1AJU_ARG_A_47  0                     222                -99.021           427.876   -4.571        -103.592\n",
      "8           1AJU_ARG_A_47  0                     219                -96.823           421.584   -5.200        -102.023\n",
      "9           1AJU_ARG_A_47  0                     126                -44.422           424.581   -4.900        -49.322\n",
      "10          1AJU_ARG_A_47  0                     214                -101.486          436.737   -3.685        -105.171\n",
      "11          1AJU_ARG_A_47  0                     254                -125.105          419.855   -5.373        -130.478\n",
      "12          1AJU_ARG_A_47  0                     155                -57.850           424.109   -4.947        -62.798\n",
      "13          1AJU_ARG_A_47  0                     292                -151.649          432.175   -4.141        -155.790\n",
      "14          1AJU_ARG_A_47  0                     285                -143.539          425.768   -4.782        -148.321\n",
      "15          1AJU_ARG_A_47  0                     272                -142.457          419.555   -5.403        -147.860\n",
      "16          1AJU_ARG_A_47  0                     211                -106.546          417.465   -5.612        -112.157\n",
      "17          1AJU_ARG_A_47  0                     278                -140.977          432.041   -4.154        -145.132\n",
      "18          1AJU_ARG_A_47  0                     174                -73.855           434.982   -3.860        -77.716\n",
      "19          1AJU_ARG_A_47  0                     198                -99.731           426.839   -4.674        -104.405\n",
      "20          1AJU_ARG_A_47  0                     206                -107.205          427.224   -4.636        -111.841\n",
      "21          1AJU_ARG_A_47  0                     166                -57.107           439.976   -3.361        -60.468\n",
      "22          1AJU_ARG_A_47  0                     171                -70.110           423.044   -5.054        -75.164\n",
      "23          1AJU_ARG_A_47  0                     221                -95.384           423.579   -5.000        -100.384\n",
      "24          1AJU_ARG_A_47  0                     233                -102.096          421.494   -5.209        -107.305\n",
      "25          1AJU_ARG_A_47  0                     254                -130.289          416.234   -5.735        -136.024\n",
      "26          1AJU_ARG_A_47  0                     273                -135.471          434.250   -3.933        -139.404\n",
      "27          1AJU_ARG_A_47  0                     216                -105.359          427.476   -4.611        -109.969\n",
      "28          1AJU_ARG_A_47  0                     249                -122.892          431.351   -4.223        -127.115\n",
      "29          1AJU_ARG_A_47  0                     137                -54.368           429.712   -4.387        -58.755\n",
      "30          1AJU_ARG_A_47  0                     201                -73.071           419.866   -5.372        -78.442\n",
      "31          1AJU_ARG_A_47  0                     207                -89.252           424.028   -4.955        -94.208\n",
      "32          1AJU_ARG_A_47  0                     279                -128.353          423.058   -5.052        -133.406\n",
      "33          1AJU_ARG_A_47  0                     210                -102.732          427.843   -4.574        -107.306\n",
      "34          1AJU_ARG_A_47  0                     233                -102.920          443.471   -3.011        -105.931\n",
      "35          1AJU_ARG_A_47  0                     223                -102.275          423.199   -5.038        -107.314\n",
      "36          1AJU_ARG_A_47  0                     142                -49.510           424.591   -4.899        -54.409\n",
      "37          1AJU_ARG_A_47  0                     220                -84.194           424.799   -4.878        -89.073\n",
      "38          1AJU_ARG_A_47  0                     226                -100.349          428.320   -4.526        -104.875\n",
      "39          1AJU_ARG_A_47  0                     179                -73.467           426.746   -4.684        -78.151\n",
      "40          1AJU_ARG_A_47  0                     251                -129.047          427.372   -4.621        -133.668\n",
      "41          1AJU_ARG_A_47  0                     264                -133.084          408.996   -6.459        -139.542\n",
      "42          1AJU_ARG_A_47  0                     221                -111.240          435.875   -3.771        -115.011\n",
      "43          1AJU_ARG_A_47  0                     187                -93.779           417.092   -5.649        -99.428\n",
      "44          1AJU_ARG_A_47  0                     205                -94.932           426.267   -4.732        -99.664\n",
      "45          1AJU_ARG_A_47  0                     185                -81.061           420.579   -5.300        -86.362\n",
      "46          1AJU_ARG_A_47  0                     225                -88.174           426.551   -4.703        -92.877\n",
      "47          1AJU_ARG_A_47  0                     207                -92.056           435.913   -3.767        -95.823\n",
      "48          1AJU_ARG_A_47  0                     276                -132.403          426.312   -4.727        -137.130\n",
      "49          1AJU_ARG_A_47  0                     218                -101.520          426.411   -4.717        -106.238\n",
      "50          1AJU_ARG_A_47  0                     153                -62.942           419.174   -5.441        -68.383\n",
      "51          1AJU_ARG_A_47  0                     172                -59.731           439.661   -3.392        -63.123\n",
      "52          1AJU_ARG_A_47  0                     268                -137.338          430.652   -4.293        -141.631\n",
      "53          1AJU_ARG_A_47  0                     221                -114.933          426.656   -4.693        -119.625\n",
      "54          1AJU_ARG_A_47  0                     249                -127.791          461.114   -1.247        -129.038\n",
      "55          1AJU_ARG_A_47  0                     217                -95.675           427.301   -4.628        -100.303\n",
      "56          1AJU_ARG_A_47  0                     139                -51.685           394.515   -7.907        -59.592\n",
      "57          1AJU_ARG_A_47  0                     246                -116.503          417.183   -5.640        -122.143\n",
      "58          1AJU_ARG_A_47  0                     238                -98.716           420.301   -5.328        -104.044\n",
      "59          1AJU_ARG_A_47  0                     224                -121.502          435.952   -3.763        -125.265\n",
      "60          1AJU_ARG_A_47  0                     171                -76.947           427.942   -4.564        -81.511\n",
      "61          1AJU_ARG_A_47  0                     283                -138.047          432.513   -4.107        -142.154\n",
      "62          1AJU_ARG_A_47  0                     116                -42.931           431.928   -4.165        -47.097\n",
      "63          1AJU_ARG_A_47  0                     199                -93.514           422.414   -5.117        -98.631\n",
      "64          1AJU_ARG_A_47  0                     249                -132.668          435.178   -3.840        -136.508\n",
      "65          1AJU_ARG_A_47  0                     196                -96.888           418.566   -5.502        -102.389\n",
      "66          1AJU_ARG_A_47  0                     124                -35.951           438.673   -3.491        -39.442\n",
      "67          1AJU_ARG_A_47  0                     204                -95.354           416.177   -5.741        -101.094\n",
      "68          1AJU_ARG_A_47  0                     231                -105.807          427.792   -4.579        -110.387\n"
     ]
    },
    {
     "name": "stdout",
     "output_type": "stream",
     "text": [
      "69          1AJU_ARG_A_47  0                     202                -99.289           416.457   -5.713        -105.001\n",
      "70          1AJU_ARG_A_47  0                     215                -86.013           426.635   -4.695        -90.708\n",
      "71          1AJU_ARG_A_47  0                     202                -73.834           429.775   -4.381        -78.215\n",
      "72          1AJU_ARG_A_47  0                     290                -153.717          425.378   -4.821        -158.538\n",
      "73          1AJU_ARG_A_47  0                     151                -52.480           418.017   -5.557        -58.036\n",
      "74          1AJU_ARG_A_47  0                     215                -77.783           417.792   -5.579        -83.363\n",
      "75          1AJU_ARG_A_47  0                     259                -126.632          439.674   -3.391        -130.023\n",
      "76          1AJU_ARG_A_47  0                     277                -145.336          432.027   -4.156        -149.492\n",
      "77          1AJU_ARG_A_47  0                     212                -109.028          427.132   -4.645        -113.673\n",
      "78          1AJU_ARG_A_47  0                     165                -56.475           429.944   -4.364        -60.838\n",
      "79          1AJU_ARG_A_47  0                     125                -42.330           417.827   -5.576        -47.906\n",
      "80          1AJU_ARG_A_47  0                     292                -151.056          420.413   -5.317        -156.373\n",
      "81          1AJU_ARG_A_47  0                     230                -102.789          416.167   -5.742        -108.530\n",
      "82          1AJU_ARG_A_47  0                     246                -121.150          421.669   -5.191        -126.342\n",
      "83          1AJU_ARG_A_47  0                     212                -105.549          425.667   -4.792        -110.341\n",
      "84          1AJU_ARG_A_47  0                     209                -105.211          423.491   -5.009        -110.220\n",
      "85          1AJU_ARG_A_47  0                     268                -131.091          424.697   -4.889        -135.980\n",
      "86          1AJU_ARG_A_47  0                     217                -106.382          440.423   -3.316        -109.698\n",
      "87          1AJU_ARG_A_47  0                     255                -126.121          407.752   -6.583        -132.704\n",
      "88          1AJU_ARG_A_47  0                     204                -107.709          423.012   -5.057        -112.767\n",
      "89          1AJU_ARG_A_47  0                     206                -82.559           436.328   -3.725        -86.284\n",
      "90          1AKX_ARG_A_47  0                     208                -100.337          433.664   -3.992        -104.329\n",
      "91          1AKX_ARG_A_47  0                     230                -134.705          428.468   -4.512        -139.216\n",
      "92          1AKX_ARG_A_47  0                     237                -122.034          425.962   -4.762        -126.796\n",
      "93          1AKX_ARG_A_47  0                     271                -137.750          435.898   -3.768        -141.519\n",
      "94          1AKX_ARG_A_47  0                     225                -111.329          427.592   -4.599        -115.928\n",
      "95          1AKX_ARG_A_47  0                     152                -49.066           425.950   -4.763        -53.829\n",
      "96          1AKX_ARG_A_47  0                     272                -142.357          435.526   -3.806        -146.163\n",
      "97          1AKX_ARG_A_47  0                     293                -154.737          426.245   -4.734        -159.471\n",
      "98          1AKX_ARG_A_47  0                     109                -36.950           444.094   -2.949        -39.899\n",
      "99          1AKX_ARG_A_47  0                     255                -130.691          444.977   -2.861        -133.551\n",
      "100         1AKX_ARG_A_47  0                     242                -124.851          422.557   -5.103        -129.953\n",
      "101         1AKX_ARG_A_47  0                     215                -128.698          421.169   -5.241        -133.939\n",
      "102         1AKX_ARG_A_47  0                     272                -151.901          420.875   -5.271        -157.172\n",
      "103         1AKX_ARG_A_47  0                     232                -132.054          426.583   -4.700        -136.754\n",
      "104         1AKX_ARG_A_47  0                     257                -122.173          432.337   -4.125        -126.297\n",
      "105         1AKX_ARG_A_47  0                     213                -113.347          433.359   -4.022        -117.370\n",
      "106         1AKX_ARG_A_47  0                     180                -96.953           426.158   -4.743        -101.695\n",
      "107         1AKX_ARG_A_47  0                     273                -152.271          442.214   -3.137        -155.408\n",
      "108         1AKX_ARG_A_47  0                     290                -148.029          421.930   -5.165        -153.195\n",
      "109         1AKX_ARG_A_47  0                     288                -145.545          448.895   -2.469        -148.014\n",
      "110         1AKX_ARG_A_47  0                     283                -146.606          436.917   -3.667        -150.273\n",
      "111         1AKX_ARG_A_47  0                     182                -100.743          432.689   -4.089        -104.833\n",
      "112         1AKX_ARG_A_47  0                     254                -136.231          441.405   -3.218        -139.449\n",
      "113         1AKX_ARG_A_47  0                     213                -114.735          437.676   -3.591        -118.326\n",
      "114         1AKX_ARG_A_47  0                     185                -88.652           429.404   -4.418        -93.070\n",
      "115         1AKX_ARG_A_47  0                     274                -142.038          431.208   -4.238        -146.275\n",
      "116         1AKX_ARG_A_47  0                     243                -127.148          435.935   -3.765        -130.913\n",
      "117         1AKX_ARG_A_47  0                     264                -150.162          431.877   -4.171        -154.332\n",
      "118         1AKX_ARG_A_47  0                     216                -115.023          429.871   -4.371        -119.394\n",
      "119         1AKX_ARG_A_47  0                     245                -132.316          436.552   -3.703        -136.019\n",
      "120         1AKX_ARG_A_47  0                     227                -119.311          432.083   -4.150        -123.461\n",
      "121         1AKX_ARG_A_47  0                     189                -108.103          442.000   -3.158        -111.261\n",
      "122         1AKX_ARG_A_47  0                     218                -120.724          441.496   -3.209        -123.933\n",
      "123         1AKX_ARG_A_47  0                     282                -150.836          445.782   -2.780        -153.616\n",
      "124         1AKX_ARG_A_47  0                     92                 -36.992           433.632   -3.995        -40.987\n",
      "125         1AKX_ARG_A_47  0                     223                -116.578          430.319   -4.326        -120.905\n",
      "126         1AKX_ARG_A_47  0                     216                -110.246          426.768   -4.682        -114.928\n",
      "127         1AKX_ARG_A_47  0                     212                -109.076          442.142   -3.144        -112.220\n",
      "128         1AKX_ARG_A_47  0                     176                -90.091           430.000   -4.358        -94.450\n",
      "129         1AKX_ARG_A_47  0                     223                -108.910          458.972   -1.461        -110.371\n",
      "130         1AKX_ARG_A_47  0                     213                -115.633          439.397   -3.419        -119.052\n",
      "131         1AKX_ARG_A_47  0                     288                -152.524          433.187   -4.040        -156.563\n",
      "132         1AKX_ARG_A_47  0                     298                -150.614          439.413   -3.417        -154.031\n",
      "133         1AKX_ARG_A_47  0                     276                -150.043          441.288   -3.229        -153.272\n",
      "134         1AKX_ARG_A_47  0                     238                -123.588          423.665   -4.992        -128.580\n",
      "135         1AKX_ARG_A_47  0                     217                -113.582          421.969   -5.161        -118.743\n",
      "136         1AKX_ARG_A_47  0                     179                -95.811           441.213   -3.237        -99.048\n",
      "137         1AKX_ARG_A_47  0                     98                 -33.118           420.645   -5.294        -38.412\n"
     ]
    },
    {
     "name": "stdout",
     "output_type": "stream",
     "text": [
      "138         1AKX_ARG_A_47  0                     220                -115.704          430.895   -4.269        -119.973\n",
      "139         1AKX_ARG_A_47  0                     274                -141.665          435.005   -3.858        -145.523\n",
      "(annapurna) "
     ]
    },
    {
     "ename": "",
     "evalue": "1",
     "output_type": "error",
     "traceback": []
    }
   ],
   "source": [
    "# scores for all supplied poses; annapurna score is in the last - score - column\n",
    "\n",
    "column -t output.kNN_modern.csv"
   ]
  }
 ],
 "metadata": {
  "kernelspec": {
   "display_name": "Bash",
   "language": "bash",
   "name": "bash"
  },
  "language_info": {
   "codemirror_mode": "shell",
   "file_extension": ".sh",
   "mimetype": "text/x-sh",
   "name": "bash"
  }
 },
 "nbformat": 4,
 "nbformat_minor": 4
}
